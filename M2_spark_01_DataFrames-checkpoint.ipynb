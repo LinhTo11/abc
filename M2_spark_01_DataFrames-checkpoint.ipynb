{
 "cells": [
  {
   "cell_type": "markdown",
   "id": "388ddf2d",
   "metadata": {},
   "source": [
    "# Spark DataFrames and SQL"
   ]
  },
  {
   "cell_type": "markdown",
   "id": "dc07335d",
   "metadata": {},
   "source": [
    "## DataFrame\n",
    " - A distributed immutable collection of data grouped into named columns\n",
    " - a two-dimensional labeled data structure with columns of potentially different types"
   ]
  },
  {
   "cell_type": "code",
   "execution_count": 1,
   "id": "0881e550",
   "metadata": {},
   "outputs": [],
   "source": [
    "from pyspark.sql import SparkSession"
   ]
  },
  {
   "cell_type": "code",
   "execution_count": 2,
   "id": "78facd9c",
   "metadata": {},
   "outputs": [
    {
     "name": "stderr",
     "output_type": "stream",
     "text": [
      "Using Spark's default log4j profile: org/apache/spark/log4j-defaults.properties\n",
      "Setting default log level to \"WARN\".\n",
      "To adjust logging level use sc.setLogLevel(newLevel). For SparkR, use setLogLevel(newLevel).\n",
      "22/02/10 18:53:41 WARN NativeCodeLoader: Unable to load native-hadoop library for your platform... using builtin-java classes where applicable\n"
     ]
    },
    {
     "data": {
      "text/html": [
       "\n",
       "            <div>\n",
       "                <p><b>SparkSession - in-memory</b></p>\n",
       "                \n",
       "        <div>\n",
       "            <p><b>SparkContext</b></p>\n",
       "\n",
       "            <p><a href=\"http://dhcp-wifi-8021x-155-41-58-182.bu.edu:4040\">Spark UI</a></p>\n",
       "\n",
       "            <dl>\n",
       "              <dt>Version</dt>\n",
       "                <dd><code>v3.2.1</code></dd>\n",
       "              <dt>Master</dt>\n",
       "                <dd><code>local[*]</code></dd>\n",
       "              <dt>AppName</dt>\n",
       "                <dd><code>RDD_DataFrames01</code></dd>\n",
       "            </dl>\n",
       "        </div>\n",
       "        \n",
       "            </div>\n",
       "        "
      ],
      "text/plain": [
       "<pyspark.sql.session.SparkSession at 0x7fb85a894ef0>"
      ]
     },
     "execution_count": 2,
     "metadata": {},
     "output_type": "execute_result"
    }
   ],
   "source": [
    "spark = SparkSession.Builder().appName(\n",
    "    \"RDD_DataFrames01\").getOrCreate()\n",
    "spark"
   ]
  },
  {
   "cell_type": "markdown",
   "id": "410e9dc4",
   "metadata": {},
   "source": [
    "### Creating Spark DataFrames"
   ]
  },
  {
   "cell_type": "code",
   "execution_count": null,
   "id": "82b837db",
   "metadata": {},
   "outputs": [],
   "source": [
    "from datetime import datetime, date\n",
    "import pandas as pd\n",
    "\n",
    "from pyspark.sql import Row"
   ]
  },
  {
   "cell_type": "markdown",
   "id": "b48f6fee",
   "metadata": {},
   "source": [
    "- from a list of Row objects"
   ]
  },
  {
   "cell_type": "code",
   "execution_count": null,
   "id": "07d6728b",
   "metadata": {},
   "outputs": [],
   "source": [
    "df1 = spark.createDataFrame(\n",
    "    [\n",
    "        Row(a=10, b=2.5, c='Alice', \n",
    "            d=date(2022, 1, 31), \n",
    "            e=datetime(2022, 1, 1, 10, 0)),\n",
    "        Row(a=20, b=3.7, c='Bob', \n",
    "            d=date(2022, 2, 1), \n",
    "            e=datetime(2022, 1, 2, 12, 30)),\n",
    "        Row(a=30, b=5.9, c='Charlie', \n",
    "            d=date(2022, 3, 1), \n",
    "            e=datetime(2022, 1, 3, 14, 45)),\n",
    "        Row(a=40, b=8.2, c='Dave', \n",
    "            d=date(2022, 1, 31), \n",
    "            e=datetime(2022, 1, 3, 17, 0))\n",
    "    ]\n",
    ")\n",
    "\n",
    "df1"
   ]
  },
  {
   "cell_type": "code",
   "execution_count": null,
   "id": "c60acf0e",
   "metadata": {},
   "outputs": [],
   "source": [
    "df1.printSchema()"
   ]
  },
  {
   "cell_type": "code",
   "execution_count": null,
   "id": "eaa6269d",
   "metadata": {},
   "outputs": [],
   "source": [
    "type(df1)"
   ]
  },
  {
   "cell_type": "markdown",
   "id": "911a0a40",
   "metadata": {},
   "source": [
    "- Using explicit schema"
   ]
  },
  {
   "cell_type": "code",
   "execution_count": null,
   "id": "7130fd7f",
   "metadata": {},
   "outputs": [],
   "source": [
    "df1 = spark.createDataFrame(\n",
    "    [\n",
    "        (10, 2.5, 'Alice', \n",
    "            date(2022, 1, 31), \n",
    "            datetime(2022, 1, 1, 10, 0)),\n",
    "        (20, 3.7, 'Bob', \n",
    "            date(2022, 2, 1), \n",
    "            datetime(2022, 1, 2, 12, 30)),\n",
    "        (30, 5.9, 'Charlie', \n",
    "            date(2022, 3, 1), \n",
    "            datetime(2022, 1, 3, 14, 45)),\n",
    "        (40, 8.2, 'Dave', \n",
    "            date(2022, 1, 31), \n",
    "            datetime(2022, 1, 3, 17, 0))\n",
    "    ]\n",
    ")\n",
    "\n",
    "df1"
   ]
  },
  {
   "cell_type": "code",
   "execution_count": null,
   "id": "bcd499e4",
   "metadata": {},
   "outputs": [],
   "source": [
    "df1 = spark.createDataFrame(\n",
    "    [\n",
    "        (10, 2.5, 'Alice', \n",
    "            date(2022, 1, 31), \n",
    "            datetime(2022, 1, 1, 10, 0)),\n",
    "        (20, 3.7, 'Bob', \n",
    "            date(2022, 2, 1), \n",
    "            datetime(2022, 1, 2, 12, 30)),\n",
    "        (30, 5.9, 'Charlie', \n",
    "            date(2022, 3, 1), \n",
    "            datetime(2022, 1, 3, 14, 45)),\n",
    "        (40, 8.2, 'Dave', \n",
    "            date(2022, 1, 31), \n",
    "            datetime(2022, 1, 3, 17, 0))\n",
    "    ], \n",
    "    schema='a long, b double, c string, d date, e timestamp'\n",
    ")\n",
    "\n",
    "df1"
   ]
  },
  {
   "cell_type": "markdown",
   "id": "16b3631e",
   "metadata": {},
   "source": [
    "- From Pandas DataFrame"
   ]
  },
  {
   "cell_type": "code",
   "execution_count": null,
   "id": "f840fc8f",
   "metadata": {},
   "outputs": [],
   "source": [
    "pandas_df = pd.DataFrame({\n",
    "    'a': [10, 20, 30,40],\n",
    "    'b': [2.5, 3.7, 5.9,8.2],\n",
    "    'c': ['Alice','Bob','Charlie','Dave'],\n",
    "    'd': [date(2022, 1, 31),date(2022, 2, 1),\n",
    "          date(2022, 3, 1), date(2022, 1, 31)],\n",
    "    'e': [datetime(2022, 1, 1, 10, 0),\n",
    "          datetime(2022, 1, 2, 12, 30),\n",
    "          datetime(2022, 1, 3, 14, 45),\n",
    "         datetime(2022, 1, 3, 17, 0)]\n",
    "})\n",
    "\n",
    "df1 = spark.createDataFrame(pandas_df)\n",
    "df1"
   ]
  },
  {
   "cell_type": "markdown",
   "id": "6909de3f",
   "metadata": {},
   "source": [
    "- From RDD"
   ]
  },
  {
   "cell_type": "code",
   "execution_count": null,
   "id": "e2e0f6c4",
   "metadata": {},
   "outputs": [],
   "source": [
    "sc = spark.sparkContext\n",
    "\n",
    "rdd = sc.parallelize([\n",
    "        (10, 2.5, 'Alice', \n",
    "            date(2022, 1, 31), \n",
    "            datetime(2022, 1, 1, 10, 0)),\n",
    "        (20, 3.7, 'Bob', \n",
    "            date(2022, 2, 1), \n",
    "            datetime(2022, 1, 2, 12, 30)),\n",
    "        (30, 5.9, 'Charlie', \n",
    "            date(2022, 3, 1), \n",
    "            datetime(2022, 1, 3, 14, 45)),\n",
    "        (40, 8.2, 'Dave', \n",
    "            date(2022, 1, 31), \n",
    "            datetime(2022, 1, 3, 17, 0))\n",
    "    \n",
    "    ])\n",
    "\n",
    "rdd "
   ]
  },
  {
   "cell_type": "code",
   "execution_count": null,
   "id": "412d9d1d",
   "metadata": {},
   "outputs": [],
   "source": [
    "df1 = spark.createDataFrame(\n",
    "    rdd, \n",
    "    schema=['a', 'b', 'c', 'd', 'e'])\n",
    "\n",
    "df1"
   ]
  },
  {
   "cell_type": "markdown",
   "id": "7a2d41b8",
   "metadata": {},
   "source": [
    "## Viewing the DataFrame"
   ]
  },
  {
   "cell_type": "markdown",
   "id": "ab16c4f9",
   "metadata": {},
   "source": [
    "### show(n = 20, truncate=True, vertical=False)\n",
    " - Viewing the first n rows of the DataFrame"
   ]
  },
  {
   "cell_type": "code",
   "execution_count": null,
   "id": "144060de",
   "metadata": {},
   "outputs": [],
   "source": [
    "df1.show()"
   ]
  },
  {
   "cell_type": "code",
   "execution_count": null,
   "id": "084af9a1",
   "metadata": {},
   "outputs": [],
   "source": [
    "df1.show(2)"
   ]
  },
  {
   "cell_type": "code",
   "execution_count": null,
   "id": "904aee4d",
   "metadata": {},
   "outputs": [],
   "source": [
    "df1.show(truncate=5)"
   ]
  },
  {
   "cell_type": "code",
   "execution_count": null,
   "id": "dee601a0",
   "metadata": {},
   "outputs": [],
   "source": [
    "df1.show(vertical=True)"
   ]
  },
  {
   "cell_type": "code",
   "execution_count": null,
   "id": "a5c1ab4a",
   "metadata": {},
   "outputs": [],
   "source": [
    "# Alternatively\n",
    "\n",
    "spark.conf.set('spark.sql.repl.eagerEval.enabled', True)\n",
    "\n",
    "df1"
   ]
  },
  {
   "cell_type": "code",
   "execution_count": null,
   "id": "bd8af4a9",
   "metadata": {},
   "outputs": [],
   "source": [
    "spark.conf.set('spark.sql.repl.eagerEval.maxNumRows', 10)\n",
    "\n",
    "df1"
   ]
  },
  {
   "cell_type": "code",
   "execution_count": null,
   "id": "d25d6f14",
   "metadata": {},
   "outputs": [],
   "source": [
    "spark.conf.set('spark.sql.repl.eagerEval.enabled', False)"
   ]
  },
  {
   "cell_type": "markdown",
   "id": "a06643cc",
   "metadata": {},
   "source": [
    "### first, take, head, tail"
   ]
  },
  {
   "cell_type": "code",
   "execution_count": null,
   "id": "f04e7854",
   "metadata": {},
   "outputs": [],
   "source": [
    "# collect all distributed data as local data\n",
    "\n",
    "df1.collect()"
   ]
  },
  {
   "cell_type": "code",
   "execution_count": null,
   "id": "57b1df64",
   "metadata": {},
   "outputs": [],
   "source": [
    "df1.first()"
   ]
  },
  {
   "cell_type": "code",
   "execution_count": null,
   "id": "0b1cfa1c",
   "metadata": {},
   "outputs": [],
   "source": [
    "# collect first two\n",
    "\n",
    "df1.take(2)"
   ]
  },
  {
   "cell_type": "code",
   "execution_count": null,
   "id": "4f1bf0c1",
   "metadata": {},
   "outputs": [],
   "source": [
    "# equivalent to\n",
    "\n",
    "df1.head(2)"
   ]
  },
  {
   "cell_type": "code",
   "execution_count": null,
   "id": "ef377e82",
   "metadata": {},
   "outputs": [],
   "source": [
    "# collect last two\n",
    "\n",
    "df1.tail(2)"
   ]
  },
  {
   "cell_type": "markdown",
   "id": "1e2bf73d",
   "metadata": {},
   "source": [
    "### limit(*num*)\n",
    " - Limits the result count to the number specified"
   ]
  },
  {
   "cell_type": "code",
   "execution_count": null,
   "id": "e54ddc1e",
   "metadata": {},
   "outputs": [],
   "source": [
    "df1.limit(2)"
   ]
  },
  {
   "cell_type": "code",
   "execution_count": null,
   "id": "7d23443f",
   "metadata": {},
   "outputs": [],
   "source": [
    "df1.limit(2).collect()"
   ]
  },
  {
   "cell_type": "markdown",
   "id": "93ae1fcd",
   "metadata": {},
   "source": [
    "### printSchema()\n",
    "  - print the schema in tree format"
   ]
  },
  {
   "cell_type": "code",
   "execution_count": null,
   "id": "a9184b41",
   "metadata": {},
   "outputs": [],
   "source": [
    "df1.printSchema()"
   ]
  },
  {
   "cell_type": "code",
   "execution_count": null,
   "id": "65ce5461",
   "metadata": {},
   "outputs": [],
   "source": [
    "df1.columns "
   ]
  },
  {
   "cell_type": "markdown",
   "id": "c4d53793",
   "metadata": {},
   "source": [
    "### Converting to Pandas DataFrame\n",
    "  - Could result in Out of Memory error if data is too large"
   ]
  },
  {
   "cell_type": "code",
   "execution_count": null,
   "id": "5bfffe26",
   "metadata": {},
   "outputs": [],
   "source": [
    "df1.toPandas()"
   ]
  },
  {
   "cell_type": "code",
   "execution_count": null,
   "id": "c930d2d0",
   "metadata": {},
   "outputs": [],
   "source": [
    "# Each Row can be mapped to a Dictionary\n",
    "\n",
    "df1.take(2)[1].asDict()"
   ]
  },
  {
   "cell_type": "code",
   "execution_count": null,
   "id": "e5432001",
   "metadata": {},
   "outputs": [],
   "source": []
  },
  {
   "cell_type": "markdown",
   "id": "0e5ce686",
   "metadata": {},
   "source": [
    "### Summary"
   ]
  },
  {
   "cell_type": "markdown",
   "id": "0cd685da",
   "metadata": {},
   "source": [
    " - A DataFrame is an abstraction of the Resilient Distributed dataset (RDD)\n",
    "    - dealing with higher level optimized functions \n",
    " - It as an efficient table of an RDD with heavily optimized binary representation of the data.    - The binary representation is achieved using encoders\n",
    "   - serializes the various objects into a binary structure for much better performance than RDD representation. \n",
    " - Performance of PySpark DataFrames with these optimizations is on par with that of either Scala or Java\n",
    " - Since DataFrames uses the RDD internally anyway, a DataFrame is also distributed exactly like an RDD, and thus is also a distributed dataset. \n",
    "  - Obviously, this also means DataFrames are immutable\n",
    "  - Every transformation creates a new DataFrame"
   ]
  },
  {
   "cell_type": "code",
   "execution_count": null,
   "id": "3c7df672",
   "metadata": {},
   "outputs": [],
   "source": [
    "type(df1), type(df1.first())"
   ]
  },
  {
   "cell_type": "markdown",
   "id": "a07931de",
   "metadata": {},
   "source": [
    "## Selecting and Accessing Data\n",
    " - Selecting a column returns a Column instance, not the Column data"
   ]
  },
  {
   "cell_type": "code",
   "execution_count": null,
   "id": "dcb39375",
   "metadata": {},
   "outputs": [],
   "source": [
    "df1.columns"
   ]
  },
  {
   "cell_type": "code",
   "execution_count": null,
   "id": "52d69270",
   "metadata": {},
   "outputs": [],
   "source": [
    "df1.c"
   ]
  },
  {
   "cell_type": "code",
   "execution_count": null,
   "id": "81cd4100",
   "metadata": {},
   "outputs": [],
   "source": [
    "type(df1.c)"
   ]
  },
  {
   "cell_type": "code",
   "execution_count": null,
   "id": "b4c81f44",
   "metadata": {},
   "outputs": [],
   "source": [
    "df1.select(df1.c)"
   ]
  },
  {
   "cell_type": "code",
   "execution_count": null,
   "id": "2f572036",
   "metadata": {},
   "outputs": [],
   "source": [
    "df1.select(df1.c).show()"
   ]
  },
  {
   "cell_type": "code",
   "execution_count": null,
   "id": "1f838bbc",
   "metadata": {},
   "outputs": [],
   "source": [
    "df1.select(df1.columns[2])"
   ]
  },
  {
   "cell_type": "code",
   "execution_count": null,
   "id": "6bd4097a",
   "metadata": {},
   "outputs": [],
   "source": [
    "df1.select(df1.columns[2]).show()"
   ]
  },
  {
   "cell_type": "markdown",
   "id": "41700d5f",
   "metadata": {},
   "source": [
    "### Select multiple columns"
   ]
  },
  {
   "cell_type": "code",
   "execution_count": null,
   "id": "aef2a8aa",
   "metadata": {},
   "outputs": [],
   "source": [
    "df1.select([df1.a, df1.c])"
   ]
  },
  {
   "cell_type": "code",
   "execution_count": null,
   "id": "d1b21088",
   "metadata": {},
   "outputs": [],
   "source": [
    "df1.select(['a', 'c']).show()"
   ]
  },
  {
   "cell_type": "code",
   "execution_count": null,
   "id": "9496411e",
   "metadata": {},
   "outputs": [],
   "source": [
    "df1.select('a', 'c').show()"
   ]
  },
  {
   "cell_type": "code",
   "execution_count": null,
   "id": "cde3b340",
   "metadata": {},
   "outputs": [],
   "source": [
    "from pyspark.sql.functions import col"
   ]
  },
  {
   "cell_type": "code",
   "execution_count": null,
   "id": "140a9293",
   "metadata": {},
   "outputs": [],
   "source": [
    "df1.select(col('a'), \n",
    "           col('c')).show()"
   ]
  },
  {
   "cell_type": "markdown",
   "id": "ff8818e6",
   "metadata": {},
   "source": [
    "### selectExpr\n",
    "  - Projects a set of SQL expressions and returns a new DataFrame"
   ]
  },
  {
   "cell_type": "code",
   "execution_count": null,
   "id": "553de13e",
   "metadata": {},
   "outputs": [],
   "source": [
    "df1.selectExpr(\"a * 5\", \n",
    "               \"year(d) + 1\", \n",
    "               \"hour(e)\").show()"
   ]
  },
  {
   "cell_type": "markdown",
   "id": "e831a586",
   "metadata": {},
   "source": [
    "### Selecting with expr(...)"
   ]
  },
  {
   "cell_type": "code",
   "execution_count": null,
   "id": "03dc4e5d",
   "metadata": {},
   "outputs": [],
   "source": [
    "from pyspark.sql.functions import expr"
   ]
  },
  {
   "cell_type": "code",
   "execution_count": null,
   "id": "dddb8351",
   "metadata": {},
   "outputs": [],
   "source": [
    "df1.select(\"a\", expr(\"a * 5\")).show()"
   ]
  },
  {
   "cell_type": "code",
   "execution_count": null,
   "id": "0b56d1ad",
   "metadata": {},
   "outputs": [],
   "source": []
  },
  {
   "cell_type": "markdown",
   "id": "19031225",
   "metadata": {},
   "source": [
    "### Using an alias"
   ]
  },
  {
   "cell_type": "code",
   "execution_count": null,
   "id": "3c868017",
   "metadata": {},
   "outputs": [],
   "source": [
    "df1.select(df1.c.alias('FirstName')).show()"
   ]
  },
  {
   "cell_type": "code",
   "execution_count": null,
   "id": "afc69972",
   "metadata": {},
   "outputs": [],
   "source": [
    "df1.select(df1.c.alias('FirstName'), \n",
    "           df1.a.alias('Age')).show()"
   ]
  },
  {
   "cell_type": "code",
   "execution_count": null,
   "id": "e56f4dfc",
   "metadata": {},
   "outputs": [],
   "source": [
    "from pyspark.sql.functions import col"
   ]
  },
  {
   "cell_type": "code",
   "execution_count": null,
   "id": "b0ed398b",
   "metadata": {},
   "outputs": [],
   "source": [
    "df1.select(col('c').alias('FirstName'), \n",
    "           col('a').alias('Age')).show()"
   ]
  },
  {
   "cell_type": "code",
   "execution_count": null,
   "id": "55da2e36",
   "metadata": {},
   "outputs": [],
   "source": [
    "df1.selectExpr(\"a * 5 as times5\", \n",
    "               \"year(d) + 1 as NextYear\", \n",
    "               \"hour(e) as HourOfDay\").show()"
   ]
  },
  {
   "cell_type": "code",
   "execution_count": null,
   "id": "922b7e29",
   "metadata": {},
   "outputs": [],
   "source": [
    "df1.select(col('a').alias('Age'), \n",
    "           expr('a * 5').alias('times5')).show()"
   ]
  },
  {
   "cell_type": "code",
   "execution_count": null,
   "id": "98e546d0",
   "metadata": {},
   "outputs": [],
   "source": []
  },
  {
   "cell_type": "markdown",
   "id": "b8391db9",
   "metadata": {},
   "source": [
    "### withColumn(colName, col) - Adding or replacing a column\n",
    "  - returns a new DataFrameby adding a column or replacing the existing column that has the same name"
   ]
  },
  {
   "cell_type": "code",
   "execution_count": null,
   "id": "e1e71bfd",
   "metadata": {},
   "outputs": [],
   "source": [
    "df1.withColumn('a10', 10 * df1.a)"
   ]
  },
  {
   "cell_type": "code",
   "execution_count": null,
   "id": "6cb22159",
   "metadata": {},
   "outputs": [],
   "source": [
    "df1.withColumn('a10', 10 * df1.a).show()"
   ]
  },
  {
   "cell_type": "code",
   "execution_count": null,
   "id": "2749182b",
   "metadata": {},
   "outputs": [],
   "source": [
    "df1.withColumn('b', df1.b / 2).show()"
   ]
  },
  {
   "cell_type": "code",
   "execution_count": null,
   "id": "ab4c4e23",
   "metadata": {},
   "outputs": [],
   "source": [
    "df1.withColumn('d', df1.d + 31).show()"
   ]
  },
  {
   "cell_type": "code",
   "execution_count": null,
   "id": "f807734d",
   "metadata": {},
   "outputs": [],
   "source": [
    "from pyspark.sql.functions import upper\n",
    "\n",
    "df1.withColumn('c', upper(df1.c)).show()"
   ]
  },
  {
   "cell_type": "markdown",
   "id": "cd90e2bd",
   "metadata": {},
   "source": [
    "### withColumnRenamed(*existing, new*)\n",
    "  - returns a new DataFrame by renaming an existing column"
   ]
  },
  {
   "cell_type": "code",
   "execution_count": null,
   "id": "4282458e",
   "metadata": {},
   "outputs": [],
   "source": [
    "df1.show()"
   ]
  },
  {
   "cell_type": "code",
   "execution_count": null,
   "id": "94a2118c",
   "metadata": {},
   "outputs": [],
   "source": [
    "df1.withColumnRenamed('c', 'Name').show()"
   ]
  },
  {
   "cell_type": "markdown",
   "id": "b1585809",
   "metadata": {},
   "source": [
    "### when(condition, value)"
   ]
  },
  {
   "cell_type": "code",
   "execution_count": null,
   "id": "3313d4ca",
   "metadata": {},
   "outputs": [],
   "source": [
    "df1.show()"
   ]
  },
  {
   "cell_type": "code",
   "execution_count": null,
   "id": "e42418ad",
   "metadata": {},
   "outputs": [],
   "source": [
    "from pyspark.sql.functions import when"
   ]
  },
  {
   "cell_type": "code",
   "execution_count": null,
   "id": "3dc3107c",
   "metadata": {},
   "outputs": [],
   "source": [
    "df1.select(df1.c, df1.a, \n",
    "           when(df1.a < 25, 'Youth').\n",
    "           when(df1.a < 35, 'YoungAdult').\n",
    "           otherwise('Adult'))"
   ]
  },
  {
   "cell_type": "code",
   "execution_count": null,
   "id": "8b234eb2",
   "metadata": {},
   "outputs": [],
   "source": [
    "df1.select(df1.c, df1.a, \n",
    "           when(df1.a < 25, 'Youth').\n",
    "           when(df1.a < 35, 'YoungAdult').\n",
    "           otherwise('Adult').alias('AgeGroup')).show()"
   ]
  },
  {
   "cell_type": "markdown",
   "id": "e1f99506",
   "metadata": {},
   "source": [
    "## sort, orderBy\n",
    " - Returns a new DataFrame sorted by the specified column(s)"
   ]
  },
  {
   "cell_type": "code",
   "execution_count": null,
   "id": "8a6feb99",
   "metadata": {},
   "outputs": [],
   "source": [
    "df1.show()"
   ]
  },
  {
   "cell_type": "code",
   "execution_count": null,
   "id": "71628ca4",
   "metadata": {},
   "outputs": [],
   "source": [
    "df1.sort(df1.d).show()"
   ]
  },
  {
   "cell_type": "code",
   "execution_count": null,
   "id": "bd021f86",
   "metadata": {},
   "outputs": [],
   "source": [
    "df1.sort(\"d\", ascending=False).show()"
   ]
  },
  {
   "cell_type": "code",
   "execution_count": null,
   "id": "dfe2ddad",
   "metadata": {},
   "outputs": [],
   "source": [
    "df1.sort(df1.d.desc(), df1.a.desc()).show()"
   ]
  },
  {
   "cell_type": "code",
   "execution_count": null,
   "id": "e30bb546",
   "metadata": {},
   "outputs": [],
   "source": [
    "df1.orderBy"
   ]
  },
  {
   "cell_type": "code",
   "execution_count": null,
   "id": "46966d79",
   "metadata": {},
   "outputs": [],
   "source": [
    "df1.orderBy(df1.d.desc(), df1.a.desc()).show()"
   ]
  },
  {
   "cell_type": "code",
   "execution_count": null,
   "id": "4d466731",
   "metadata": {},
   "outputs": [],
   "source": [
    "df1.orderBy(\"a\", ascending=False).limit(2).collect()"
   ]
  },
  {
   "cell_type": "markdown",
   "id": "6c334896",
   "metadata": {},
   "source": [
    "## Dropping Columns"
   ]
  },
  {
   "cell_type": "code",
   "execution_count": null,
   "id": "678f6754",
   "metadata": {},
   "outputs": [],
   "source": [
    "df1.show()"
   ]
  },
  {
   "cell_type": "code",
   "execution_count": null,
   "id": "1422d248",
   "metadata": {},
   "outputs": [],
   "source": [
    "df1.drop('b').show()"
   ]
  },
  {
   "cell_type": "code",
   "execution_count": null,
   "id": "b6bead55",
   "metadata": {},
   "outputs": [],
   "source": [
    "df1.drop('d', 'e').show()"
   ]
  },
  {
   "cell_type": "code",
   "execution_count": null,
   "id": "c4bbc9e9",
   "metadata": {},
   "outputs": [],
   "source": [
    "df1.drop(df1.d).show()"
   ]
  },
  {
   "cell_type": "markdown",
   "id": "1bb0dd96",
   "metadata": {},
   "source": [
    "## Loading from external files"
   ]
  },
  {
   "cell_type": "markdown",
   "id": "b19171e7",
   "metadata": {},
   "source": [
    "### Text files"
   ]
  },
  {
   "cell_type": "code",
   "execution_count": null,
   "id": "94256bd6",
   "metadata": {},
   "outputs": [],
   "source": [
    "df_text = spark.read.text('the-zen-of-python.txt')\n",
    "df_text"
   ]
  },
  {
   "cell_type": "code",
   "execution_count": null,
   "id": "43a536ca",
   "metadata": {},
   "outputs": [],
   "source": [
    "df_text.show(4, truncate=False)"
   ]
  },
  {
   "cell_type": "code",
   "execution_count": null,
   "id": "6ab27481",
   "metadata": {},
   "outputs": [],
   "source": [
    "from pyspark.sql.functions import split, explode"
   ]
  },
  {
   "cell_type": "code",
   "execution_count": null,
   "id": "30b98067",
   "metadata": {},
   "outputs": [],
   "source": [
    "df_wordList = df_text.select(split(\"value\", \" \").alias(\n",
    "    \"wordList\"))\n",
    "\n",
    "df_wordList.show(4, truncate=False)"
   ]
  },
  {
   "cell_type": "code",
   "execution_count": null,
   "id": "ae2239f4",
   "metadata": {},
   "outputs": [],
   "source": [
    "df_wordList.printSchema()"
   ]
  },
  {
   "cell_type": "markdown",
   "id": "6f642b42",
   "metadata": {},
   "source": [
    "- explode: Returns a new row for each element in the given array"
   ]
  },
  {
   "cell_type": "code",
   "execution_count": null,
   "id": "ee6d152a",
   "metadata": {},
   "outputs": [],
   "source": [
    "df_words = df_wordList.select(\n",
    "    explode(\"wordList\").alias(\"word\"))\n",
    "\n",
    "df_words.show(10, truncate=False)\n",
    "                                           "
   ]
  },
  {
   "cell_type": "code",
   "execution_count": null,
   "id": "afc47675",
   "metadata": {},
   "outputs": [],
   "source": [
    "df_words.printSchema()"
   ]
  },
  {
   "cell_type": "code",
   "execution_count": null,
   "id": "b016ea89",
   "metadata": {},
   "outputs": [],
   "source": [
    "df_wordCounts = df_words.groupBy(\"word\").count()\n",
    "df_wordCounts"
   ]
  },
  {
   "cell_type": "code",
   "execution_count": null,
   "id": "bde7223f",
   "metadata": {},
   "outputs": [],
   "source": [
    "df_wordCounts.show(4)"
   ]
  },
  {
   "cell_type": "code",
   "execution_count": null,
   "id": "c7df7383",
   "metadata": {},
   "outputs": [],
   "source": [
    "df_wordCounts.sort(\"word\").show(8)"
   ]
  },
  {
   "cell_type": "code",
   "execution_count": null,
   "id": "8915c3bb",
   "metadata": {},
   "outputs": [],
   "source": [
    "from pyspark.sql.functions import desc"
   ]
  },
  {
   "cell_type": "code",
   "execution_count": null,
   "id": "4a3a4156",
   "metadata": {},
   "outputs": [],
   "source": [
    "df_wordCounts.sort(desc(\"count\")).show(8)"
   ]
  },
  {
   "cell_type": "markdown",
   "id": "015c013f",
   "metadata": {},
   "source": [
    "### CSV files"
   ]
  },
  {
   "cell_type": "code",
   "execution_count": null,
   "id": "598058b0",
   "metadata": {},
   "outputs": [],
   "source": [
    "df_csv = spark.read.csv('scores_data.csv.gz', header=True)\n",
    "df_csv"
   ]
  },
  {
   "cell_type": "code",
   "execution_count": null,
   "id": "dfd82a7a",
   "metadata": {},
   "outputs": [],
   "source": [
    "# Alternative\n",
    "\n",
    "spark.read.option(\"header\", True).csv('scores_data.csv.gz')"
   ]
  },
  {
   "cell_type": "code",
   "execution_count": null,
   "id": "c560aeae",
   "metadata": {},
   "outputs": [],
   "source": [
    "df_csv.count()"
   ]
  },
  {
   "cell_type": "code",
   "execution_count": null,
   "id": "25f096fb",
   "metadata": {},
   "outputs": [],
   "source": [
    "df_csv.show(4)"
   ]
  },
  {
   "cell_type": "code",
   "execution_count": null,
   "id": "cf363c10",
   "metadata": {},
   "outputs": [],
   "source": [
    "df_csv.printSchema()"
   ]
  },
  {
   "cell_type": "markdown",
   "id": "2b48b3fb",
   "metadata": {},
   "source": [
    "#### Infer the Schema"
   ]
  },
  {
   "cell_type": "code",
   "execution_count": null,
   "id": "fa6faa1a",
   "metadata": {},
   "outputs": [],
   "source": [
    "df_csv = spark.read.csv('scores_data.csv.gz', \n",
    "                        header=True, \n",
    "                        inferSchema=True)\n",
    "df_csv"
   ]
  },
  {
   "cell_type": "code",
   "execution_count": null,
   "id": "b1846067",
   "metadata": {},
   "outputs": [],
   "source": [
    "# Alternative\n",
    "\n",
    "spark.read.options(header = True, inferSchema = True).csv('scores_data.csv.gz')"
   ]
  },
  {
   "cell_type": "code",
   "execution_count": null,
   "id": "5557e538",
   "metadata": {},
   "outputs": [],
   "source": [
    "df_csv.printSchema()"
   ]
  },
  {
   "cell_type": "code",
   "execution_count": null,
   "id": "276d3d64",
   "metadata": {},
   "outputs": [],
   "source": [
    "df_csv.describe()"
   ]
  },
  {
   "cell_type": "code",
   "execution_count": null,
   "id": "c56b9f3b",
   "metadata": {},
   "outputs": [],
   "source": [
    "df_csv.describe().printSchema()"
   ]
  },
  {
   "cell_type": "code",
   "execution_count": null,
   "id": "296aa680",
   "metadata": {},
   "outputs": [],
   "source": [
    "df_csv.describe(df_csv.columns[2:]).show()"
   ]
  },
  {
   "cell_type": "markdown",
   "id": "bce91da8",
   "metadata": {},
   "source": [
    "### JSON files"
   ]
  },
  {
   "cell_type": "code",
   "execution_count": null,
   "id": "b24c0666",
   "metadata": {},
   "outputs": [],
   "source": [
    "df_json = spark.read.json('scores_data.json.gz')\n",
    "df_json"
   ]
  },
  {
   "cell_type": "code",
   "execution_count": null,
   "id": "d595b790",
   "metadata": {},
   "outputs": [],
   "source": [
    "df_json.count()"
   ]
  },
  {
   "cell_type": "code",
   "execution_count": null,
   "id": "953e5d1b",
   "metadata": {},
   "outputs": [],
   "source": [
    "df_json.show(4)"
   ]
  },
  {
   "cell_type": "code",
   "execution_count": null,
   "id": "8769061d",
   "metadata": {},
   "outputs": [],
   "source": [
    "df_json.printSchema()"
   ]
  },
  {
   "cell_type": "markdown",
   "id": "5ab4c399",
   "metadata": {},
   "source": [
    "## Operations on DataFrames\n"
   ]
  },
  {
   "cell_type": "markdown",
   "id": "0d70a1f1",
   "metadata": {},
   "source": [
    "### filter(*condition*), where(*condition*)\n",
    " - filter based on a Column expressions or a string of SQL expression\n",
    "  - **where** is an alias for **filter**"
   ]
  },
  {
   "cell_type": "code",
   "execution_count": null,
   "id": "ec792176",
   "metadata": {},
   "outputs": [],
   "source": [
    "df_csv.show(4)"
   ]
  },
  {
   "cell_type": "code",
   "execution_count": null,
   "id": "0fcaf668",
   "metadata": {},
   "outputs": [],
   "source": [
    "df_csv.filter(df_csv.Test2 > 100)"
   ]
  },
  {
   "cell_type": "code",
   "execution_count": null,
   "id": "076d0674",
   "metadata": {},
   "outputs": [],
   "source": [
    "df_csv.filter(df_csv.Test2 > 100).count()"
   ]
  },
  {
   "cell_type": "code",
   "execution_count": null,
   "id": "4d5d2b8f",
   "metadata": {},
   "outputs": [],
   "source": [
    "df_csv.filter(df_csv.Test2 > 100).show(4)"
   ]
  },
  {
   "cell_type": "code",
   "execution_count": null,
   "id": "f4c83f96",
   "metadata": {},
   "outputs": [],
   "source": [
    "# Using col syntax\n",
    "\n",
    "from pyspark.sql.functions import col"
   ]
  },
  {
   "cell_type": "code",
   "execution_count": null,
   "id": "318e87fd",
   "metadata": {},
   "outputs": [],
   "source": [
    "df_csv.filter(col('Test2') > 100).show(4)"
   ]
  },
  {
   "cell_type": "code",
   "execution_count": null,
   "id": "74573a3e",
   "metadata": {},
   "outputs": [],
   "source": [
    "# SQL syntax\n",
    "\n",
    "df_csv.filter(\"Test2 > 100\").show(4)"
   ]
  },
  {
   "cell_type": "markdown",
   "id": "083ad3b6",
   "metadata": {},
   "source": [
    " #### multiple conditions AND (&), OR (!), NOT (!)"
   ]
  },
  {
   "cell_type": "code",
   "execution_count": null,
   "id": "8ed8f03f",
   "metadata": {},
   "outputs": [],
   "source": [
    "df_csv.where((df_csv.Section == 'B') &\n",
    "             (df_csv.Test2 > 100)).show()"
   ]
  },
  {
   "cell_type": "code",
   "execution_count": null,
   "id": "a3f990e0",
   "metadata": {},
   "outputs": [],
   "source": [
    "# col syntax \n",
    "\n",
    "df_csv.where((col('Section') == 'B') &\n",
    "             (col('Test2') > 100)).show()"
   ]
  },
  {
   "cell_type": "code",
   "execution_count": null,
   "id": "9b17b65b",
   "metadata": {},
   "outputs": [],
   "source": [
    "# SQL syntax \n",
    "\n",
    "df_csv.where(\"Section == 'B' AND Test2 > 100\").show()"
   ]
  },
  {
   "cell_type": "markdown",
   "id": "eb8bba56",
   "metadata": {},
   "source": [
    "#### filter on list values"
   ]
  },
  {
   "cell_type": "code",
   "execution_count": null,
   "id": "86c8a76e",
   "metadata": {},
   "outputs": [],
   "source": [
    "df_csv.filter(df_csv.Section.isin(['A','C'])).count()"
   ]
  },
  {
   "cell_type": "code",
   "execution_count": null,
   "id": "f275c703",
   "metadata": {},
   "outputs": [],
   "source": [
    "# col syntax\n",
    "\n",
    "df_csv.filter(col('Section').isin(['A','C'])).count()"
   ]
  },
  {
   "cell_type": "code",
   "execution_count": null,
   "id": "b4e5959d",
   "metadata": {},
   "outputs": [],
   "source": [
    "# Sql syntax\n",
    "\n",
    "df_csv.filter(\"Section IN ('A','C')\").count()"
   ]
  },
  {
   "cell_type": "code",
   "execution_count": null,
   "id": "d421d8a2",
   "metadata": {},
   "outputs": [],
   "source": [
    "df_csv.filter((df_csv.Section.isin(['A','C'])) &\n",
    "              (df_csv.Test2 > 100)).show()"
   ]
  },
  {
   "cell_type": "code",
   "execution_count": null,
   "id": "c2015f71",
   "metadata": {},
   "outputs": [],
   "source": [
    "# SQL syntax\n",
    "\n",
    "df_csv.filter(\"Section IN ('A','C') AND Test2 > 100\").show()"
   ]
  },
  {
   "cell_type": "code",
   "execution_count": null,
   "id": "7d7e7d29",
   "metadata": {},
   "outputs": [],
   "source": []
  },
  {
   "cell_type": "code",
   "execution_count": null,
   "id": "1a67a68f",
   "metadata": {},
   "outputs": [],
   "source": [
    "# Not in the list\n",
    "\n",
    "df_csv.filter((~df_csv.Section.isin(['A','C'])) &\n",
    "              (df_csv.Test2 > 100)).show()"
   ]
  },
  {
   "cell_type": "code",
   "execution_count": null,
   "id": "b2137cc3",
   "metadata": {},
   "outputs": [],
   "source": [
    "# Same as\n",
    "\n",
    "df_csv.filter((df_csv.Section.isin(['A','C']) == False) &\n",
    "              (df_csv.Test2 > 100)).show()"
   ]
  },
  {
   "cell_type": "code",
   "execution_count": null,
   "id": "726578c5",
   "metadata": {},
   "outputs": [],
   "source": [
    "# SQL syntax\n",
    "\n",
    "df_csv.filter(\"Section NOT IN ('A','C') AND Test2 > 100\").show()"
   ]
  },
  {
   "cell_type": "markdown",
   "id": "da790a44",
   "metadata": {},
   "source": [
    "#### startswith, endswith, contains"
   ]
  },
  {
   "cell_type": "code",
   "execution_count": null,
   "id": "a3da4989",
   "metadata": {},
   "outputs": [],
   "source": [
    "df_text.show(4)"
   ]
  },
  {
   "cell_type": "code",
   "execution_count": null,
   "id": "1903ade5",
   "metadata": {},
   "outputs": [],
   "source": [
    "df_text.filter(df_text.value.startswith(\n",
    "    'Complex')).show(truncate=False)"
   ]
  },
  {
   "cell_type": "code",
   "execution_count": null,
   "id": "fd4c9371",
   "metadata": {},
   "outputs": [],
   "source": [
    "df_text.filter(df_text.value.endswith(\n",
    "    'it.')).show(truncate=False)"
   ]
  },
  {
   "cell_type": "code",
   "execution_count": null,
   "id": "b52e8b01",
   "metadata": {},
   "outputs": [],
   "source": [
    "df_text.filter(df_text.value.contains(\n",
    "    'better')).show(truncate=False)"
   ]
  },
  {
   "cell_type": "code",
   "execution_count": null,
   "id": "8298b598",
   "metadata": {},
   "outputs": [],
   "source": [
    "# not contains\n",
    "\n",
    "df_text.filter(~df_text.value.contains(\n",
    "    'better')).show(truncate=False)"
   ]
  },
  {
   "cell_type": "markdown",
   "id": "0eca4167",
   "metadata": {},
   "source": [
    "#### between"
   ]
  },
  {
   "cell_type": "code",
   "execution_count": null,
   "id": "032f7b0c",
   "metadata": {},
   "outputs": [],
   "source": [
    "df1.show()"
   ]
  },
  {
   "cell_type": "code",
   "execution_count": null,
   "id": "ea77e173",
   "metadata": {},
   "outputs": [],
   "source": [
    "df1.filter(col('d').between('2022-01-15', '2022-02-15')).show()"
   ]
  },
  {
   "cell_type": "code",
   "execution_count": null,
   "id": "8d52d221",
   "metadata": {},
   "outputs": [],
   "source": [
    "df1.filter(df1.a.between(10,20)).show()"
   ]
  },
  {
   "cell_type": "code",
   "execution_count": null,
   "id": "c9f88742",
   "metadata": {},
   "outputs": [],
   "source": [
    "# not in between"
   ]
  },
  {
   "cell_type": "code",
   "execution_count": null,
   "id": "e0001b21",
   "metadata": {},
   "outputs": [],
   "source": [
    "df1.filter(~df1.a.between(10,20)).show()"
   ]
  },
  {
   "cell_type": "markdown",
   "id": "b4d9bc69",
   "metadata": {},
   "source": [
    "#### like, rlike (regular expression syntax)"
   ]
  },
  {
   "cell_type": "code",
   "execution_count": null,
   "id": "0e25904b",
   "metadata": {},
   "outputs": [],
   "source": [
    "df_csv.filter(df_csv.Student.like('Student_99999%')).show()"
   ]
  },
  {
   "cell_type": "code",
   "execution_count": null,
   "id": "fd014b2c",
   "metadata": {},
   "outputs": [],
   "source": [
    "df_text.filter(df_text.value.like(\n",
    "    '%tly%')).show(truncate=False)"
   ]
  },
  {
   "cell_type": "code",
   "execution_count": null,
   "id": "b9873745",
   "metadata": {},
   "outputs": [],
   "source": [
    "df_text.filter(df_text.value.like(\n",
    "    '%complex%')).show(truncate=False)"
   ]
  },
  {
   "cell_type": "code",
   "execution_count": null,
   "id": "ec7ffb1f",
   "metadata": {
    "scrolled": true
   },
   "outputs": [],
   "source": [
    "# regex (rlike)\n",
    "\n",
    "df_text.filter(df_text.value.rlike(\n",
    "    '^I')).show(truncate=False)"
   ]
  },
  {
   "cell_type": "code",
   "execution_count": null,
   "id": "1cc00f08",
   "metadata": {},
   "outputs": [],
   "source": [
    "df_text.filter(df_text.value.rlike(\n",
    "    's.$')).show(truncate=False)"
   ]
  },
  {
   "cell_type": "code",
   "execution_count": null,
   "id": "6f12078e",
   "metadata": {},
   "outputs": [],
   "source": [
    "df_text.filter(df_text.value.rlike(\n",
    "    'complex')).show(truncate=False)"
   ]
  },
  {
   "cell_type": "code",
   "execution_count": null,
   "id": "68e8a3bf",
   "metadata": {},
   "outputs": [],
   "source": [
    "# case insensitive\n",
    "\n",
    "df_text.filter(df_text.value.rlike(\n",
    "    '(?i)complex')).show(truncate=False)"
   ]
  },
  {
   "cell_type": "markdown",
   "id": "b01a7f7d",
   "metadata": {},
   "source": [
    "#### array column"
   ]
  },
  {
   "cell_type": "code",
   "execution_count": null,
   "id": "17218d52",
   "metadata": {},
   "outputs": [],
   "source": [
    "df_wordList.show(4, truncate=False)"
   ]
  },
  {
   "cell_type": "code",
   "execution_count": null,
   "id": "f846b02d",
   "metadata": {},
   "outputs": [],
   "source": [
    "df_wordList.take(4)"
   ]
  },
  {
   "cell_type": "code",
   "execution_count": null,
   "id": "c72f7ea1",
   "metadata": {},
   "outputs": [],
   "source": [
    "from pyspark.sql.functions import array_contains"
   ]
  },
  {
   "cell_type": "code",
   "execution_count": null,
   "id": "b59ddeba",
   "metadata": {},
   "outputs": [],
   "source": [
    "df_wordList.filter(array_contains(\n",
    "    df_wordList.wordList, 'better')).show(truncate=False)"
   ]
  },
  {
   "cell_type": "code",
   "execution_count": null,
   "id": "5a586d92",
   "metadata": {},
   "outputs": [],
   "source": []
  },
  {
   "cell_type": "markdown",
   "id": "67e41374",
   "metadata": {},
   "source": [
    "### groupBy, groupby\n",
    "  - Groups the DataFrame using the specified columns\n",
    "    - used for aggregation on the groups"
   ]
  },
  {
   "cell_type": "code",
   "execution_count": null,
   "id": "11bebd00",
   "metadata": {},
   "outputs": [],
   "source": [
    "df_csv.groupBy()"
   ]
  },
  {
   "cell_type": "code",
   "execution_count": null,
   "id": "214edcf3",
   "metadata": {},
   "outputs": [],
   "source": [
    "df_csv.groupBy().avg()"
   ]
  },
  {
   "cell_type": "code",
   "execution_count": null,
   "id": "3d091cd4",
   "metadata": {},
   "outputs": [],
   "source": [
    "df_csv.groupBy().avg().show()"
   ]
  },
  {
   "cell_type": "code",
   "execution_count": null,
   "id": "8449e5da",
   "metadata": {},
   "outputs": [],
   "source": [
    "# alternatively, mean is alias for avg\n",
    "\n",
    "df_csv.groupBy().mean().show()"
   ]
  },
  {
   "cell_type": "markdown",
   "id": "f393e314",
   "metadata": {},
   "source": [
    "#### Rounding columns"
   ]
  },
  {
   "cell_type": "code",
   "execution_count": null,
   "id": "ee697ecc",
   "metadata": {},
   "outputs": [],
   "source": [
    "from pyspark.sql.functions import round"
   ]
  },
  {
   "cell_type": "code",
   "execution_count": null,
   "id": "dbf2354c",
   "metadata": {},
   "outputs": [],
   "source": [
    "result = df_csv.groupBy().avg()\n",
    "result"
   ]
  },
  {
   "cell_type": "code",
   "execution_count": null,
   "id": "0915dae5",
   "metadata": {},
   "outputs": [],
   "source": [
    "for c in result.columns:\n",
    "    result = result.withColumn(c, round(c, 2))\n",
    "\n",
    "result.show()"
   ]
  },
  {
   "cell_type": "markdown",
   "id": "b27b594b",
   "metadata": {},
   "source": [
    "#### Group by Column"
   ]
  },
  {
   "cell_type": "code",
   "execution_count": null,
   "id": "04c4aabd",
   "metadata": {},
   "outputs": [],
   "source": [
    "result = df_csv.groupBy('Section').avg()\n",
    "result"
   ]
  },
  {
   "cell_type": "code",
   "execution_count": null,
   "id": "f27b98f8",
   "metadata": {},
   "outputs": [],
   "source": [
    "for c in result.columns[1:]:\n",
    "    result = result.withColumn(c, round(c, 2))\n",
    "\n",
    "result.show()"
   ]
  },
  {
   "cell_type": "code",
   "execution_count": null,
   "id": "0de47704",
   "metadata": {},
   "outputs": [],
   "source": [
    "df_csv.groupBy('Section').min().show()"
   ]
  },
  {
   "cell_type": "code",
   "execution_count": null,
   "id": "d5fb2332",
   "metadata": {},
   "outputs": [],
   "source": [
    "df_csv.groupBy('Section').max().show()"
   ]
  },
  {
   "cell_type": "code",
   "execution_count": null,
   "id": "ee9cb065",
   "metadata": {},
   "outputs": [],
   "source": [
    "df_csv.groupBy('Section').count().show()"
   ]
  },
  {
   "cell_type": "code",
   "execution_count": null,
   "id": "37364fec",
   "metadata": {},
   "outputs": [],
   "source": [
    "df_csv.groupBy('Section').sum().show()"
   ]
  },
  {
   "cell_type": "code",
   "execution_count": null,
   "id": "0a094b78",
   "metadata": {},
   "outputs": [],
   "source": [
    "# For specific column\n",
    "\n",
    "df_csv.groupBy('Section').sum('Test3').show()"
   ]
  },
  {
   "cell_type": "code",
   "execution_count": null,
   "id": "5bb76aa4",
   "metadata": {},
   "outputs": [],
   "source": []
  },
  {
   "cell_type": "code",
   "execution_count": null,
   "id": "d4d3da30",
   "metadata": {},
   "outputs": [],
   "source": [
    "# For multiple columns\n",
    "\n",
    "df_csv.groupBy('Section').min('Test1', 'Test3').show()"
   ]
  },
  {
   "cell_type": "code",
   "execution_count": null,
   "id": "5501e007",
   "metadata": {},
   "outputs": [],
   "source": [
    "# Rename columns\n",
    "\n",
    "df_csv.groupBy('Section').min('Test1', 'Test3').select(\n",
    "    'Section', \n",
    "    col('min(Test1)').alias('min_Test1'),\n",
    "    col('min(Test3)').alias('min_Test3')\n",
    ").show()"
   ]
  },
  {
   "cell_type": "code",
   "execution_count": null,
   "id": "65e8a8b6",
   "metadata": {},
   "outputs": [],
   "source": []
  },
  {
   "cell_type": "markdown",
   "id": "7b8a59ef",
   "metadata": {},
   "source": [
    "#### Multiple aggregations - agg()"
   ]
  },
  {
   "cell_type": "code",
   "execution_count": null,
   "id": "b50b24c4",
   "metadata": {},
   "outputs": [],
   "source": [
    "from pyspark.sql.functions import sum, min, max, avg, mean, count, countDistinct"
   ]
  },
  {
   "cell_type": "code",
   "execution_count": null,
   "id": "3c559a5f",
   "metadata": {},
   "outputs": [],
   "source": [
    "df_csv.groupBy('Section').agg(min('Test1')).show()"
   ]
  },
  {
   "cell_type": "code",
   "execution_count": null,
   "id": "f8147c6b",
   "metadata": {},
   "outputs": [],
   "source": [
    "df_csv.groupBy('Section').agg(\n",
    "    min('Test1'), max('Test2'), avg('Test3'), \n",
    "    count('Test4'), countDistinct('Test4')).show()"
   ]
  },
  {
   "cell_type": "code",
   "execution_count": null,
   "id": "8854bbad",
   "metadata": {},
   "outputs": [],
   "source": [
    "df_csv.groupBy('Section').agg(\n",
    "    min('Test1').alias('min_test1'), \n",
    "    max('Test2').alias('max_test2'), \n",
    "    avg('Test3').alias('avg_test3'),\n",
    "    count('Test4').alias('count_test4'),\n",
    "    countDistinct('Test4').alias('countDistinct_test4')).show()"
   ]
  },
  {
   "cell_type": "markdown",
   "id": "512e3653",
   "metadata": {},
   "source": [
    "- dictionary mapping - column to aggregate function"
   ]
  },
  {
   "cell_type": "code",
   "execution_count": null,
   "id": "d38b7ea5",
   "metadata": {},
   "outputs": [],
   "source": [
    "df_csv.groupBy('Section').agg({'*' : 'count'}).show()"
   ]
  },
  {
   "cell_type": "code",
   "execution_count": null,
   "id": "2a79950b",
   "metadata": {},
   "outputs": [],
   "source": [
    "df_csv.groupBy('Section').agg(\n",
    "    {'Test1' : 'min', 'Test2' : 'max', \n",
    "     'Test4': 'count'}).show()"
   ]
  },
  {
   "cell_type": "code",
   "execution_count": null,
   "id": "52b0a394",
   "metadata": {},
   "outputs": [],
   "source": [
    "# limitation - can't map same column to more than one function\n",
    "\n",
    "df_csv.groupBy('Section').agg(\n",
    "    {'Test1' : 'min', 'Test2' : 'max', \n",
    "     'Test4': 'count', 'Test4': 'sum'}).show()"
   ]
  },
  {
   "cell_type": "code",
   "execution_count": null,
   "id": "efeb1857",
   "metadata": {},
   "outputs": [],
   "source": [
    "df_csv.select('*', \n",
    "              col('Test4').alias(\n",
    "                  'Test4_2')).groupBy('Section').agg(\n",
    "    {'Test1' : 'min', 'Test2' : 'max', \n",
    "     'Test4': 'count', 'Test4_2': 'sum'}).show()"
   ]
  },
  {
   "cell_type": "code",
   "execution_count": null,
   "id": "02c64c6d",
   "metadata": {},
   "outputs": [],
   "source": []
  },
  {
   "cell_type": "markdown",
   "id": "522f900d",
   "metadata": {},
   "source": [
    "#### with filter"
   ]
  },
  {
   "cell_type": "code",
   "execution_count": null,
   "id": "e386870d",
   "metadata": {},
   "outputs": [],
   "source": [
    "df_csv.groupBy('Section').agg(\n",
    "    min('Test1').alias('min_test1'), \n",
    "    max('Test2').alias('max_test2'), \n",
    "    avg('Test3').alias('avg_test3'),\n",
    "    count('Test4').alias('count_test4')).show()"
   ]
  },
  {
   "cell_type": "code",
   "execution_count": null,
   "id": "1c19db32",
   "metadata": {},
   "outputs": [],
   "source": [
    "df_csv.groupBy('Section').agg(\n",
    "    min('Test1').alias('min_test1'), \n",
    "    max('Test2').alias('max_test2'), \n",
    "    avg('Test3').alias('avg_test3'),\n",
    "    count('Test4').alias('count_test4')\n",
    ").filter('min_test1 > 5 AND max_test2 > 100').show()"
   ]
  },
  {
   "cell_type": "markdown",
   "id": "da43454b",
   "metadata": {},
   "source": [
    "#### Grouping by multiple columns"
   ]
  },
  {
   "cell_type": "code",
   "execution_count": null,
   "id": "e05fc844",
   "metadata": {},
   "outputs": [],
   "source": [
    "df_json.show(4)"
   ]
  },
  {
   "cell_type": "code",
   "execution_count": null,
   "id": "fa4e5d11",
   "metadata": {},
   "outputs": [],
   "source": [
    "df_json.groupBy('Section', 'Gender').count().show()"
   ]
  },
  {
   "cell_type": "code",
   "execution_count": null,
   "id": "9480695a",
   "metadata": {},
   "outputs": [],
   "source": [
    "# orderBy\n",
    "\n",
    "df_json.groupBy(\n",
    "    'Section', 'Gender').count().orderBy('Section').show()"
   ]
  },
  {
   "cell_type": "code",
   "execution_count": null,
   "id": "07e24d7a",
   "metadata": {},
   "outputs": [],
   "source": [
    "df_json.groupBy(\n",
    "    'Section', 'Gender').count().orderBy(\n",
    "    'Section', 'Gender').show()"
   ]
  },
  {
   "cell_type": "code",
   "execution_count": null,
   "id": "3080f77a",
   "metadata": {},
   "outputs": [],
   "source": []
  },
  {
   "cell_type": "code",
   "execution_count": null,
   "id": "a3af0b91",
   "metadata": {},
   "outputs": [],
   "source": [
    "df_json.groupBy('Section', 'Gender').min(\n",
    "    'Test1').show()"
   ]
  },
  {
   "cell_type": "code",
   "execution_count": null,
   "id": "be739b04",
   "metadata": {},
   "outputs": [],
   "source": [
    "sorted(df_json.groupBy('Section', 'Gender').min(\n",
    "    'Test1').collect())"
   ]
  },
  {
   "cell_type": "code",
   "execution_count": null,
   "id": "3501a89f",
   "metadata": {},
   "outputs": [],
   "source": [
    "df_json.groupBy('Section', 'Gender').min(\n",
    "    'Test1').sort('Section')"
   ]
  },
  {
   "cell_type": "code",
   "execution_count": null,
   "id": "d2980899",
   "metadata": {},
   "outputs": [],
   "source": [
    "df_json.groupBy('Section', 'Gender').min(\n",
    "    'Test1').sort('Section').show()"
   ]
  },
  {
   "cell_type": "code",
   "execution_count": null,
   "id": "2bdf1f54",
   "metadata": {},
   "outputs": [],
   "source": [
    "df_json.groupBy('Section', 'Gender').min(\n",
    "    'Test1').sort('Section', 'Gender').show()"
   ]
  },
  {
   "cell_type": "code",
   "execution_count": null,
   "id": "f2c17de5",
   "metadata": {},
   "outputs": [],
   "source": [
    "from pyspark.sql.functions import desc"
   ]
  },
  {
   "cell_type": "code",
   "execution_count": null,
   "id": "0eaba64d",
   "metadata": {},
   "outputs": [],
   "source": [
    "df_json.groupBy('Section', 'Gender').min(\n",
    "    'Test1').sort('Section', desc('Gender')).show()"
   ]
  },
  {
   "cell_type": "markdown",
   "id": "bbb33b3e",
   "metadata": {},
   "source": [
    "### union, intersect, subtract\n",
    "  - returns a new DataFrame with \n",
    "     - union of rows in both (union)\n",
    "     - rows only in both (intersect)\n",
    "     - rows only in this but not the other (subtract)"
   ]
  },
  {
   "cell_type": "code",
   "execution_count": null,
   "id": "75cc0714",
   "metadata": {},
   "outputs": [],
   "source": [
    "df_A = spark.createDataFrame(data = \n",
    "                            [('Alice', 21),('Bob', 22),('Dave', 24)],\n",
    "                            schema = ['Name', 'Age'])\n",
    "df_A.show()"
   ]
  },
  {
   "cell_type": "code",
   "execution_count": null,
   "id": "d5518828",
   "metadata": {},
   "outputs": [],
   "source": [
    "df_B = spark.createDataFrame(data = \n",
    "                            [('Bob', 22),('Dave', 26), ('Ed', 30)],\n",
    "                            schema = ['Name', 'Age'])\n",
    "df_B.show()"
   ]
  },
  {
   "cell_type": "code",
   "execution_count": null,
   "id": "85cae5ff",
   "metadata": {},
   "outputs": [],
   "source": [
    "df_A.union(df_B).show()"
   ]
  },
  {
   "cell_type": "code",
   "execution_count": null,
   "id": "8a71e892",
   "metadata": {},
   "outputs": [],
   "source": [
    "# Remove duplicates using distinct()\n",
    "\n",
    "df_A.union(df_B).distinct().show()"
   ]
  },
  {
   "cell_type": "code",
   "execution_count": null,
   "id": "03ad4b0b",
   "metadata": {},
   "outputs": [],
   "source": [
    "df_A.intersect(df_B).show()"
   ]
  },
  {
   "cell_type": "code",
   "execution_count": null,
   "id": "073f311a",
   "metadata": {},
   "outputs": [],
   "source": [
    "df_A.subtract(df_B).show()"
   ]
  },
  {
   "cell_type": "code",
   "execution_count": null,
   "id": "0a795beb",
   "metadata": {},
   "outputs": [],
   "source": [
    "df_B.subtract(df_A).show()"
   ]
  },
  {
   "cell_type": "markdown",
   "id": "2fd055d9",
   "metadata": {},
   "source": [
    "### join, crossJoin"
   ]
  },
  {
   "cell_type": "code",
   "execution_count": null,
   "id": "52d60211",
   "metadata": {},
   "outputs": [],
   "source": [
    "df_A = spark.createDataFrame(\n",
    "    data = \n",
    "    [('Alice', 21),('Bob', 22),('Dave', 24), ('Frank', 20)],\n",
    "    schema = ['Name', 'Age'])\n",
    "\n",
    "df_A.show()"
   ]
  },
  {
   "cell_type": "code",
   "execution_count": null,
   "id": "e13c5cf3",
   "metadata": {},
   "outputs": [],
   "source": [
    "df_B = spark.createDataFrame(\n",
    "    data = \n",
    "    [('Bob', 50000),('Dave', 60000), ('Ed', 70000)],\n",
    "    schema = ['Name', 'Salary'])\n",
    "\n",
    "df_B.show()"
   ]
  },
  {
   "cell_type": "code",
   "execution_count": null,
   "id": "649a1871",
   "metadata": {},
   "outputs": [],
   "source": [
    "df_A.join(df_B)"
   ]
  },
  {
   "cell_type": "code",
   "execution_count": null,
   "id": "0ccad7c7",
   "metadata": {},
   "outputs": [],
   "source": [
    "df_A.join(df_B).show()"
   ]
  },
  {
   "cell_type": "code",
   "execution_count": null,
   "id": "6f59c70c",
   "metadata": {},
   "outputs": [],
   "source": [
    "df_A.join(df_B).explain()"
   ]
  },
  {
   "cell_type": "code",
   "execution_count": null,
   "id": "013d1f11",
   "metadata": {},
   "outputs": [],
   "source": [
    "# cartesian product\n",
    "\n",
    "df_A.crossJoin(df_B).show()"
   ]
  },
  {
   "cell_type": "markdown",
   "id": "286ee7bb",
   "metadata": {},
   "source": [
    "- join(otherDF, on, how)\n",
    "- Join on column - default inner join"
   ]
  },
  {
   "cell_type": "code",
   "execution_count": null,
   "id": "0078cd91",
   "metadata": {},
   "outputs": [],
   "source": [
    "df_A.show()\n",
    "df_B.show()"
   ]
  },
  {
   "cell_type": "code",
   "execution_count": null,
   "id": "109b21b6",
   "metadata": {},
   "outputs": [],
   "source": [
    "df_A.join(df_B, on = 'Name', how = 'inner').show()"
   ]
  },
  {
   "cell_type": "code",
   "execution_count": null,
   "id": "e19add16",
   "metadata": {},
   "outputs": [],
   "source": [
    "df_A.join(df_B, on = 'Name', how = 'outer').show()"
   ]
  },
  {
   "cell_type": "code",
   "execution_count": null,
   "id": "f75e298d",
   "metadata": {},
   "outputs": [],
   "source": [
    "df_A.join(df_B, on = 'Name', how = 'left').show()"
   ]
  },
  {
   "cell_type": "code",
   "execution_count": null,
   "id": "298f5394",
   "metadata": {},
   "outputs": [],
   "source": [
    "df_A.join(df_B, on = 'Name', how = 'right').show()"
   ]
  },
  {
   "cell_type": "markdown",
   "id": "802cffbd",
   "metadata": {},
   "source": [
    "#### Left Semi Join\n",
    " - Similar to inner join\n",
    " - Returns all columns from left dataframe and ignores columns from right dataframe"
   ]
  },
  {
   "cell_type": "code",
   "execution_count": null,
   "id": "0c5249aa",
   "metadata": {},
   "outputs": [],
   "source": [
    "df_A.show()\n",
    "df_B.show()"
   ]
  },
  {
   "cell_type": "code",
   "execution_count": null,
   "id": "0f22f481",
   "metadata": {},
   "outputs": [],
   "source": [
    "df_A.join(df_B, on = 'Name', how='leftsemi').show()"
   ]
  },
  {
   "cell_type": "markdown",
   "id": "14d66439",
   "metadata": {},
   "source": [
    "#### Left Anti Join\n",
    " - Opposite of Left Semi join\n",
    " - Returns only columns from left dataframe for non-matched records"
   ]
  },
  {
   "cell_type": "code",
   "execution_count": null,
   "id": "b4db9f69",
   "metadata": {},
   "outputs": [],
   "source": [
    "df_A.join(df_B, on = 'Name', how='leftanti').show()"
   ]
  },
  {
   "cell_type": "markdown",
   "id": "ce0e56e4",
   "metadata": {},
   "source": [
    "#### Join using different column names"
   ]
  },
  {
   "cell_type": "code",
   "execution_count": null,
   "id": "7dc45903",
   "metadata": {},
   "outputs": [],
   "source": [
    "df_C = spark.createDataFrame(\n",
    "    data = \n",
    "    [('Bob', 50000),('Dave', 60000), ('Ed', 70000)],\n",
    "    schema = ['FirstName', 'Salary'])\n",
    "\n",
    "df_C.show()"
   ]
  },
  {
   "cell_type": "code",
   "execution_count": null,
   "id": "853bcace",
   "metadata": {},
   "outputs": [],
   "source": [
    "df_A.join(df_C, on = df_A.Name == df_C.FirstName, \n",
    "          how = 'inner').show()"
   ]
  },
  {
   "cell_type": "code",
   "execution_count": null,
   "id": "1b09038d",
   "metadata": {},
   "outputs": [],
   "source": [
    "df_A.join(df_C, on = df_A.Name == df_C.FirstName, \n",
    "          how = 'inner').select(\n",
    "    df_C.FirstName, df_C.Salary, df_A.Age).show()"
   ]
  },
  {
   "cell_type": "code",
   "execution_count": null,
   "id": "7c68eb00",
   "metadata": {},
   "outputs": [],
   "source": [
    "# Or,\n",
    "\n",
    "df_A.join(df_C, on = df_A.Name == df_C.FirstName, \n",
    "          how = 'inner').drop(df_A.Name).show()"
   ]
  },
  {
   "cell_type": "markdown",
   "id": "b8acb503",
   "metadata": {},
   "source": [
    "#### Self join\n",
    "  - e.g., who are older than each person"
   ]
  },
  {
   "cell_type": "code",
   "execution_count": null,
   "id": "0a492387",
   "metadata": {},
   "outputs": [],
   "source": [
    "df_A.show()"
   ]
  },
  {
   "cell_type": "code",
   "execution_count": null,
   "id": "8ac9709f",
   "metadata": {},
   "outputs": [],
   "source": [
    "df_A.join(df_A).show()"
   ]
  },
  {
   "cell_type": "code",
   "execution_count": null,
   "id": "531457f8",
   "metadata": {},
   "outputs": [],
   "source": [
    "df_A.alias('df1').join(df_A.alias('df2')\n",
    "                      ).filter(\n",
    "    col(\"df1.Age\") < col(\"df2.Age\")).show()"
   ]
  },
  {
   "cell_type": "code",
   "execution_count": null,
   "id": "4edb0bc2",
   "metadata": {},
   "outputs": [],
   "source": [
    "df_A.alias('df1').join(df_A.alias('df2')\n",
    "                      ).filter(\n",
    "    col(\"df1.Age\") < col(\"df2.Age\")).select(\n",
    "    col(\"df1.Name\").alias(\"Name\"), \n",
    "    col(\"df1.Age\").alias(\"Age\"), \n",
    "    col(\"df2.Name\").alias(\"OlderPersonName\"), \n",
    "    col(\"df2.Age\").alias(\"OlderPersonAge\")\n",
    ").show()"
   ]
  },
  {
   "cell_type": "markdown",
   "id": "07809380",
   "metadata": {},
   "source": [
    "### crosstab(*col1, col2*)\n",
    "  - two way frequency table\n",
    "  - computes a pair-wise frequency table of the given columns\n",
    "  - Also known as a contingency table"
   ]
  },
  {
   "cell_type": "code",
   "execution_count": null,
   "id": "a28f83bf",
   "metadata": {},
   "outputs": [],
   "source": [
    "df_json.show()"
   ]
  },
  {
   "cell_type": "code",
   "execution_count": null,
   "id": "11a280bb",
   "metadata": {},
   "outputs": [],
   "source": [
    "df_json.crosstab('Section', 'Gender')"
   ]
  },
  {
   "cell_type": "code",
   "execution_count": null,
   "id": "3bd1aaa1",
   "metadata": {},
   "outputs": [],
   "source": [
    "df_json.crosstab('Section', 'Gender').show()"
   ]
  },
  {
   "cell_type": "code",
   "execution_count": null,
   "id": "e264cdfc",
   "metadata": {},
   "outputs": [],
   "source": [
    "# with groupBy\n",
    "\n",
    "df_json.groupBy('Section', 'Gender').count().show()"
   ]
  },
  {
   "cell_type": "code",
   "execution_count": null,
   "id": "c64dc0db",
   "metadata": {},
   "outputs": [],
   "source": [
    "df_json.filter('Test1 > 75 AND Test4 > 65').count()"
   ]
  },
  {
   "cell_type": "code",
   "execution_count": null,
   "id": "1d2d7896",
   "metadata": {},
   "outputs": [],
   "source": [
    "df_json.filter('Test1 > 75 AND Test4 > 65').crosstab('Test1', 'Test4').show()"
   ]
  },
  {
   "cell_type": "code",
   "execution_count": null,
   "id": "f670a977",
   "metadata": {},
   "outputs": [],
   "source": [
    "# With Group by\n",
    "df_json.filter('Test1 > 75 AND Test4 > 65').groupBy('Test1', 'Test4').count().show()"
   ]
  },
  {
   "cell_type": "markdown",
   "id": "24a4055d",
   "metadata": {},
   "source": [
    "### pivot\n",
    "  - Pivots a column of the current DataFrame and perform the specified aggregation"
   ]
  },
  {
   "cell_type": "code",
   "execution_count": null,
   "id": "b6deb34f",
   "metadata": {},
   "outputs": [],
   "source": [
    "df_json.printSchema()"
   ]
  },
  {
   "cell_type": "code",
   "execution_count": null,
   "id": "dc59563c",
   "metadata": {},
   "outputs": [],
   "source": [
    "df_json.groupBy('Section').pivot('Gender').count().show()"
   ]
  },
  {
   "cell_type": "code",
   "execution_count": null,
   "id": "91edbd30",
   "metadata": {},
   "outputs": [],
   "source": [
    "df_json.groupBy('Gender').pivot('Section').count().show()"
   ]
  },
  {
   "cell_type": "code",
   "execution_count": null,
   "id": "7e987100",
   "metadata": {},
   "outputs": [],
   "source": [
    "df_json.groupBy('Section').pivot('Gender').max('Test1').show()"
   ]
  },
  {
   "cell_type": "code",
   "execution_count": null,
   "id": "5072f5ff",
   "metadata": {},
   "outputs": [],
   "source": [
    "df_json.groupBy('Gender').pivot('Section').max('Test1').show()"
   ]
  },
  {
   "cell_type": "code",
   "execution_count": null,
   "id": "c7e585d2",
   "metadata": {},
   "outputs": [],
   "source": [
    "df_json.groupBy('Section').pivot('Gender').agg(\n",
    "    {'Test1': 'max', 'Test2': 'min'}).show()"
   ]
  },
  {
   "cell_type": "code",
   "execution_count": null,
   "id": "9e62310e",
   "metadata": {},
   "outputs": [],
   "source": [
    "# Compare with\n",
    "\n",
    "df_json.groupBy('Section','Gender').agg(\n",
    "    {'Test1': 'max', 'Test2': 'min'}).show()"
   ]
  },
  {
   "cell_type": "markdown",
   "id": "504f9873",
   "metadata": {},
   "source": [
    "- Pivot with specified values  (more efficient)"
   ]
  },
  {
   "cell_type": "code",
   "execution_count": null,
   "id": "e2d9dca8",
   "metadata": {},
   "outputs": [],
   "source": [
    "df_json.groupBy('Gender').pivot('Section', ['A', 'C']).max('Test1').show()"
   ]
  },
  {
   "cell_type": "code",
   "execution_count": null,
   "id": "3f3ee8cf",
   "metadata": {},
   "outputs": [],
   "source": [
    "df_json.groupBy('Gender').pivot('Section', ['A', 'C']).min().show()"
   ]
  },
  {
   "cell_type": "code",
   "execution_count": null,
   "id": "c82b021d",
   "metadata": {},
   "outputs": [],
   "source": []
  },
  {
   "cell_type": "markdown",
   "id": "fa0ee1d9",
   "metadata": {},
   "source": [
    "### cube\n",
    " - Creates a multi-dimensional cube for the current DataFrame using the specified columns, so we can run aggregations on them\n",
    " - Creates combinations of all values in all listed columns"
   ]
  },
  {
   "cell_type": "code",
   "execution_count": null,
   "id": "b8c2557f",
   "metadata": {},
   "outputs": [],
   "source": [
    "df_json.cube('Section', 'Gender')"
   ]
  },
  {
   "cell_type": "code",
   "execution_count": null,
   "id": "0875221d",
   "metadata": {},
   "outputs": [],
   "source": [
    "df_json.cube('Section', 'Gender').count().show()"
   ]
  },
  {
   "cell_type": "code",
   "execution_count": null,
   "id": "4599061a",
   "metadata": {},
   "outputs": [],
   "source": [
    "df_json.cube('Section', 'Gender'\n",
    "            ).count().orderBy('Section', 'Gender').show()"
   ]
  },
  {
   "cell_type": "code",
   "execution_count": null,
   "id": "896c8fad",
   "metadata": {},
   "outputs": [],
   "source": [
    "df_json.cube('Section', 'Gender'\n",
    "            ).max('Test1').orderBy('Section', 'Gender').show()"
   ]
  },
  {
   "cell_type": "code",
   "execution_count": null,
   "id": "c60bc5ad",
   "metadata": {},
   "outputs": [],
   "source": [
    "df_json.cube('Test3','Section', 'Gender').count().orderBy(\n",
    "    'Test3', 'Section', 'Gender').show(40)"
   ]
  },
  {
   "cell_type": "code",
   "execution_count": null,
   "id": "ae4dcd15",
   "metadata": {},
   "outputs": [],
   "source": [
    "df_json.cube('Test3','Section', 'Gender').count().orderBy(\n",
    "    'Test3', 'Section', 'Gender').count()"
   ]
  },
  {
   "cell_type": "code",
   "execution_count": null,
   "id": "a5932d1d",
   "metadata": {},
   "outputs": [],
   "source": []
  },
  {
   "cell_type": "code",
   "execution_count": null,
   "id": "9874fecf",
   "metadata": {},
   "outputs": [],
   "source": [
    "df_json.cube('Test3','Section', 'Gender').agg({'Test1': 'max', 'Test2': 'min'}).orderBy(\n",
    "    'Test3', 'Section', 'Gender').show(40)"
   ]
  },
  {
   "cell_type": "code",
   "execution_count": null,
   "id": "902c359c",
   "metadata": {},
   "outputs": [],
   "source": []
  },
  {
   "cell_type": "markdown",
   "id": "f488a949",
   "metadata": {},
   "source": [
    "### rollup\n",
    "  - Create a multi-dimensional rollup for the current DataFrame using the specified columns, so we can run aggregation on them\n",
    "  - Rollup returns a hierarchy of values using the given columns starting from the first given column."
   ]
  },
  {
   "cell_type": "code",
   "execution_count": null,
   "id": "757f830a",
   "metadata": {},
   "outputs": [],
   "source": [
    "df_json.rollup('Section', 'Gender')"
   ]
  },
  {
   "cell_type": "code",
   "execution_count": null,
   "id": "85b9f7f7",
   "metadata": {},
   "outputs": [],
   "source": [
    "df_json.rollup('Section', 'Gender'\n",
    "            ).count().show()"
   ]
  },
  {
   "cell_type": "code",
   "execution_count": null,
   "id": "eb44f244",
   "metadata": {},
   "outputs": [],
   "source": [
    "# compare with cube\n",
    "\n",
    "df_json.cube('Section', 'Gender'\n",
    "            ).count().show()"
   ]
  },
  {
   "cell_type": "code",
   "execution_count": null,
   "id": "598f3332",
   "metadata": {},
   "outputs": [],
   "source": [
    "df_json.rollup('Section', 'Gender'\n",
    "            ).count().orderBy('Section', 'Gender').show()"
   ]
  },
  {
   "cell_type": "code",
   "execution_count": null,
   "id": "815676ca",
   "metadata": {},
   "outputs": [],
   "source": [
    "# compare with cube\n",
    "\n",
    "df_json.cube('Section', 'Gender'\n",
    "            ).count().orderBy('Section', 'Gender').show()"
   ]
  },
  {
   "cell_type": "code",
   "execution_count": null,
   "id": "b79a2222",
   "metadata": {},
   "outputs": [],
   "source": [
    "df_json.rollup('Test3','Section', 'Gender').count().orderBy(\n",
    "    'Test3', 'Section', 'Gender').show(40)"
   ]
  },
  {
   "cell_type": "code",
   "execution_count": null,
   "id": "04fc3d5c",
   "metadata": {},
   "outputs": [],
   "source": [
    "df_json.rollup('Test3','Section', 'Gender').count().orderBy(\n",
    "    'Test3', 'Section', 'Gender').count()"
   ]
  },
  {
   "cell_type": "markdown",
   "id": "5ac8d574",
   "metadata": {},
   "source": [
    "### Cube vs Rollup\n",
    "  - Assume grouping by three columns\n",
    "  - Year, Month, Day\n",
    "    - Calculate number of rows"
   ]
  },
  {
   "cell_type": "markdown",
   "id": "54489e35",
   "metadata": {},
   "source": [
    "| Cube                | Rollup                  | SQL |\n",
    "| :-----------        | :-----------             |:-----|\n",
    "| Year, Month, Day    | Year, Month, Day        |SELECT COUNT(*) FROM table GROUP BY Year, Month, Day|\n",
    "| Year, Month         | Year, Month            |SELECT COUNT(*) FROM table GROUP BY Year, Month|\n",
    "| Year, Day         | -            |SELECT COUNT(*) FROM table GROUP BY Year, Day|\n",
    "| Year             | Year           |SELECT COUNT(*) FROM table GROUP BY Year|\n",
    "| Month, Day         | -            |SELECT COUNT(*) FROM table GROUP BY Month, Day|\n",
    "| Month         | -            |SELECT COUNT(*) FROM table GROUP BY Month|\n",
    "| Day         | -            |SELECT COUNT(*) FROM table GROUP BY Day|\n",
    "|null, null, null| null     | SELECT COUNT(*) FROM table |\n"
   ]
  },
  {
   "cell_type": "code",
   "execution_count": null,
   "id": "14338762",
   "metadata": {},
   "outputs": [],
   "source": []
  },
  {
   "cell_type": "markdown",
   "id": "1249aec5",
   "metadata": {},
   "source": [
    "### Sorting"
   ]
  },
  {
   "cell_type": "code",
   "execution_count": null,
   "id": "846c19e3",
   "metadata": {},
   "outputs": [],
   "source": [
    "df_D = spark.createDataFrame(\n",
    "    data = \n",
    "    [('Alice', 21),('Bob', 22),\n",
    "     ('Dave', 24), ('Frank', 20), \n",
    "     ('Charlie', 22), ('Ed', 24)],\n",
    "    schema = ['Name', 'Age'])\n",
    "\n",
    "df_D.show()"
   ]
  },
  {
   "cell_type": "code",
   "execution_count": null,
   "id": "314182a2",
   "metadata": {},
   "outputs": [],
   "source": [
    "df_D.sort(df_D.Name.desc()).show()"
   ]
  },
  {
   "cell_type": "code",
   "execution_count": null,
   "id": "626d6574",
   "metadata": {},
   "outputs": [],
   "source": [
    "df_D.sort(df_D.Age).show()"
   ]
  },
  {
   "cell_type": "code",
   "execution_count": null,
   "id": "21399dc2",
   "metadata": {},
   "outputs": [],
   "source": [
    "df_D.sort(df_D.Age, df_D.Name).show()"
   ]
  },
  {
   "cell_type": "code",
   "execution_count": null,
   "id": "0771ad04",
   "metadata": {},
   "outputs": [],
   "source": [
    "df_D.sort(df_D.Age.desc()).show()"
   ]
  },
  {
   "cell_type": "code",
   "execution_count": null,
   "id": "f0510ff5",
   "metadata": {},
   "outputs": [],
   "source": [
    "df_D.sort(df_D.Age.desc(), df_D.Name).show()"
   ]
  },
  {
   "cell_type": "code",
   "execution_count": null,
   "id": "e9b10dfb",
   "metadata": {},
   "outputs": [],
   "source": [
    "from pyspark.sql.functions import asc, desc"
   ]
  },
  {
   "cell_type": "code",
   "execution_count": null,
   "id": "46b2a136",
   "metadata": {},
   "outputs": [],
   "source": [
    "df_D.show()"
   ]
  },
  {
   "cell_type": "code",
   "execution_count": null,
   "id": "d2e0a9a1",
   "metadata": {},
   "outputs": [],
   "source": [
    "df_D.sort(desc('Name')).show()"
   ]
  },
  {
   "cell_type": "code",
   "execution_count": null,
   "id": "320aab0b",
   "metadata": {},
   "outputs": [],
   "source": [
    "df_D.sort(desc('Age')).show()"
   ]
  },
  {
   "cell_type": "code",
   "execution_count": null,
   "id": "7437dc74",
   "metadata": {},
   "outputs": [],
   "source": [
    "df_D.sort(desc('Age'), asc('Name')).show()"
   ]
  },
  {
   "cell_type": "code",
   "execution_count": null,
   "id": "d8d0900f",
   "metadata": {},
   "outputs": [],
   "source": []
  },
  {
   "cell_type": "markdown",
   "id": "7141bc82",
   "metadata": {},
   "source": [
    "### describe(), summary()\n",
    "  - The summary() and describe() transformations produce similar descriptive statistics, with the summary() transformation additionally producing quartiles."
   ]
  },
  {
   "cell_type": "code",
   "execution_count": null,
   "id": "a9eed10d",
   "metadata": {},
   "outputs": [],
   "source": [
    "df_json.describe()"
   ]
  },
  {
   "cell_type": "code",
   "execution_count": null,
   "id": "cd9675ab",
   "metadata": {},
   "outputs": [],
   "source": [
    "df_json.describe().show()"
   ]
  },
  {
   "cell_type": "code",
   "execution_count": null,
   "id": "eccdd9e8",
   "metadata": {},
   "outputs": [],
   "source": [
    "df_json.summary()"
   ]
  },
  {
   "cell_type": "code",
   "execution_count": null,
   "id": "48c34724",
   "metadata": {},
   "outputs": [],
   "source": [
    "df_json.summary().show()"
   ]
  },
  {
   "cell_type": "code",
   "execution_count": null,
   "id": "ac023df3",
   "metadata": {},
   "outputs": [],
   "source": []
  },
  {
   "cell_type": "markdown",
   "id": "9dfe16d7",
   "metadata": {},
   "source": [
    "### forEach\n",
    "  - applies the specified function for each row of the DataFrame"
   ]
  },
  {
   "cell_type": "code",
   "execution_count": null,
   "id": "34887177",
   "metadata": {},
   "outputs": [],
   "source": [
    "df_A.show()"
   ]
  },
  {
   "cell_type": "code",
   "execution_count": null,
   "id": "1a4b4661",
   "metadata": {},
   "outputs": [],
   "source": [
    "df_A.foreach(lambda row: print(row))"
   ]
  },
  {
   "cell_type": "code",
   "execution_count": null,
   "id": "528d0697",
   "metadata": {},
   "outputs": [],
   "source": [
    "df_A.foreach(lambda row: \n",
    "             print(\"{:8s} is {} years old\".format(\n",
    "                 row['Name'], row['Age'])))"
   ]
  },
  {
   "cell_type": "markdown",
   "id": "dca7e1e7",
   "metadata": {},
   "source": [
    "## Stop the session"
   ]
  },
  {
   "cell_type": "code",
   "execution_count": null,
   "id": "b974a7f3",
   "metadata": {},
   "outputs": [],
   "source": [
    "spark.stop()"
   ]
  }
 ],
 "metadata": {
  "kernelspec": {
   "display_name": "Python 3 (ipykernel)",
   "language": "python",
   "name": "python3"
  },
  "language_info": {
   "codemirror_mode": {
    "name": "ipython",
    "version": 3
   },
   "file_extension": ".py",
   "mimetype": "text/x-python",
   "name": "python",
   "nbconvert_exporter": "python",
   "pygments_lexer": "ipython3",
   "version": "3.7.3"
  },
  "nbTranslate": {
   "displayLangs": [
    "*"
   ],
   "hotkey": "alt-t",
   "langInMainMenu": true,
   "sourceLang": "en",
   "targetLang": "fr",
   "useGoogleTranslate": true
  },
  "toc": {
   "base_numbering": 1,
   "nav_menu": {},
   "number_sections": true,
   "sideBar": true,
   "skip_h1_title": true,
   "title_cell": "Table of Contents",
   "title_sidebar": "Contents",
   "toc_cell": false,
   "toc_position": {},
   "toc_section_display": true,
   "toc_window_display": true
  }
 },
 "nbformat": 4,
 "nbformat_minor": 5
}
